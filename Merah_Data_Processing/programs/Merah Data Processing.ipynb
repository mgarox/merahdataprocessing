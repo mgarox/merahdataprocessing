{
 "cells": [
  {
   "cell_type": "markdown",
   "id": "0fa4ac1b-7ccc-4512-ba25-13cb634b5595",
   "metadata": {},
   "source": [
    "<center> <h1> Merah Data Processing </h1> </center>"
   ]
  },
  {
   "cell_type": "markdown",
   "id": "ccf586b8-81f1-48f4-a060-52f24ae7e7c1",
   "metadata": {},
   "source": [
    "### A. Deskripsi\n",
    "\n",
    "**Program ini berfungsi untuk memproses Data dari \"Merah\" yang akan dipecah menjadi beberapa bagian data ke file excel**"
   ]
  },
  {
   "cell_type": "markdown",
   "id": "039ee47a-611e-42eb-b27e-faacae27f071",
   "metadata": {},
   "source": [
    "### B. Requirements\n",
    "\n",
    "Berikut adalah requirements yang diperlukan untuk program ini : \n",
    "- python 3.11.4\n",
    "- pandas 2.0.3\n",
    "- openpyxl 3.1.2\n",
    "- numpy 1.24.3"
   ]
  },
  {
   "cell_type": "markdown",
   "id": "4879405a-66d9-49e7-9a2e-d6cb0baa8bf6",
   "metadata": {},
   "source": [
    "### C. Inisialisasi\n",
    "1. Pindahkan file data \"Merah\" pada folder \"files\" dalam bentuk format CSV\n",
    "2. Ganti nama file data \"Merah\" pada konstanta 'PATH_FILE_CSV'\n",
    "3. Ganti jumlah kelipatan baris pada konstanta 'KELIPATAN_BARIS'"
   ]
  },
  {
   "cell_type": "markdown",
   "id": "57e03b4a-64a6-4f64-99b4-ef2676dff8d2",
   "metadata": {},
   "source": [
    "### D. Source Code"
   ]
  },
  {
   "cell_type": "markdown",
   "id": "efab2fa0-66f5-4272-8fe7-a9b5d994e059",
   "metadata": {},
   "source": [
    "#### 1. Import library yang diperlukan"
   ]
  },
  {
   "cell_type": "code",
   "execution_count": null,
   "id": "352b852e",
   "metadata": {},
   "outputs": [],
   "source": [
    "# Untuk membaca file CSV, membuat dataframe baru, dan menyimpan dalam bentuk file Excel\n",
    "import pandas as pd"
   ]
  },
  {
   "cell_type": "markdown",
   "id": "44c33404-789d-4541-8c32-5a8a50b9c59d",
   "metadata": {},
   "source": [
    "#### 2. Deklarasi Konstanta/Variabel Global"
   ]
  },
  {
   "cell_type": "code",
   "execution_count": null,
   "id": "330ba4c0",
   "metadata": {},
   "outputs": [],
   "source": [
    "# File input data \"Merah\"\n",
    "PATH_FILE_CSV = \"../files/metranet.csv\"\n",
    "\n",
    "# Jumlah baris data yang ingin dimuat pada satu file excel\n",
    "KELIPATAN_BARIS = 10000\n",
    "\n",
    "# List nama kolom yang berada pada file data \"Merah\"\n",
    "LIST_NAMA_KOLOM = [\n",
    "    \"id\", \"datetime\", \"realm\", \"meta_keyword\", \"top_level_domain\", \"platform\", \"browser\", \"url_access\",\n",
    "    \"google_text_search\", \"ip_address\", \"screen_res\", \"geo_location\", \"user_info\", \"datetime\"\n",
    "]\n",
    "\n",
    "# Kolom apa saja yang akan dimasukkan pada file excel output\n",
    "LIST_NAMA_KOLOM_YANG_DIPERLUKAN = [\n",
    "    \"datetime\", \"realm\", \"meta_keyword\", \"top_level_domain\", \"browser\", \"url_access\",\n",
    "    \"google_text_search\", \"ip_address\", \"geo_location\", \"user_info\"\n",
    "]\n",
    "\n",
    "# Nama file output yang diambil dari file input data \"Merah\"\n",
    "NAMA_FILE_OUTPUT = PATH_FILE_CSV.split('.')[-2].split('/')[-1]"
   ]
  },
  {
   "cell_type": "markdown",
   "id": "1744715c-f088-4309-aa5a-69b45b9977ea",
   "metadata": {},
   "source": [
    "#### 3. Membuat Fungsi"
   ]
  },
  {
   "cell_type": "code",
   "execution_count": null,
   "id": "a6e1c777",
   "metadata": {},
   "outputs": [],
   "source": [
    "# Fungsi untuk merubah baris data pada setiap kolom menjadi bertipe \"string\"\n",
    "def konversi_type_kolom(dataframe, LIST_NAMA_KOLOM):\n",
    "\n",
    "    # Melakukan konversi data pada setiap kolom menjadi string\n",
    "    for i in range(len(LIST_NAMA_KOLOM)):\n",
    "        dataframe[LIST_NAMA_KOLOM[i]] = dataframe[dataframe.columns[i]].astype(str)\n",
    "    \n",
    "    return dataframe"
   ]
  },
  {
   "cell_type": "code",
   "execution_count": null,
   "id": "9e7c4158",
   "metadata": {},
   "outputs": [],
   "source": [
    "# Membuat dataframe baru yang berisikan kolom-kolom yang berisikan data yang informatif saja\n",
    "def membuat_dataframe_baru(dataframe, LIST_NAMA_KOLOM_YANG_DIPERLUKAN):\n",
    "\n",
    "    # Membuat dataframe baru\n",
    "    dataframe_baru = pd.DataFrame()\n",
    "\n",
    "    # Memasukkan nama-nama kolom yang akan dimasukkan pada dataframe baru\n",
    "    for i in range(len(LIST_NAMA_KOLOM_YANG_DIPERLUKAN)):\n",
    "        dataframe_baru[LIST_NAMA_KOLOM_YANG_DIPERLUKAN[i]] = dataframe[LIST_NAMA_KOLOM_YANG_DIPERLUKAN[i]]\n",
    "    \n",
    "    return dataframe_baru"
   ]
  },
  {
   "cell_type": "markdown",
   "id": "a1aa8902-b8b3-463f-90e1-5583cc7ded05",
   "metadata": {},
   "source": [
    "#### 4. Membuat Fungsi Utama"
   ]
  },
  {
   "cell_type": "code",
   "execution_count": null,
   "id": "dbff7ffb",
   "metadata": {},
   "outputs": [],
   "source": [
    "def main():\n",
    "\n",
    "    # Membuat threshold mengenai baris data yang telah dibuat file excel sebelumnya\n",
    "    n_baris_yang_dilewati = 0\n",
    "\n",
    "    while True:\n",
    "\n",
    "        try:\n",
    "\n",
    "            # Membaca file input data \"Merah\" dan menjadikan dalam dataframe\n",
    "            # Mengambil data-data dari baris yang dimulai dari index \"n_baris_yang_dilewati\"\n",
    "            df_indihome = pd.read_csv(PATH_FILE_CSV, skiprows=n_baris_yang_dilewati, nrows=KELIPATAN_BARIS)\n",
    "            \n",
    "            # Konversi dataframe pada file input data breach menjadi bertipe \"string\"\n",
    "            df_indihome = konversi_type_kolom(df_indihome, LIST_NAMA_KOLOM)\n",
    "\n",
    "            # Replace dengan dataframe baru yang hanya berisikan kolom-kolom yang dimasukkan saja\n",
    "            df_indihome = membuat_dataframe_baru(df_indihome, LIST_NAMA_KOLOM_YANG_DIPERLUKAN)\n",
    "            \n",
    "            # Melakukan save dalam bentuk file excel\n",
    "            df_indihome.to_excel(\n",
    "                \"../files/\" + NAMA_FILE_OUTPUT + \" - \" + str(n_baris_yang_dilewati) + \" to \" + str(n_baris_yang_dilewati + KELIPATAN_BARIS) + \".xlsx\",\n",
    "                index=False\n",
    "            )\n",
    "\n",
    "        except Indexerror as err:\n",
    "\n",
    "            print(\"Sudah mentok Gan !\")\n",
    "\n",
    "        # Lanjut ke baris berikutnya jika sudah memenuhi threshold\n",
    "        n_baris_yang_dilewati += KELIPATAN_BARIS"
   ]
  },
  {
   "cell_type": "markdown",
   "id": "ec1afa1c-4585-43d3-ae06-b7539979f16b",
   "metadata": {},
   "source": [
    "#### 5. Menjalankan Fungsi Utama"
   ]
  },
  {
   "cell_type": "code",
   "execution_count": null,
   "id": "e2788a01",
   "metadata": {},
   "outputs": [],
   "source": [
    "main()"
   ]
  }
 ],
 "metadata": {
  "kernelspec": {
   "display_name": "Python 3 (ipykernel)",
   "language": "python",
   "name": "python3"
  },
  "language_info": {
   "codemirror_mode": {
    "name": "ipython",
    "version": 3
   },
   "file_extension": ".py",
   "mimetype": "text/x-python",
   "name": "python",
   "nbconvert_exporter": "python",
   "pygments_lexer": "ipython3",
   "version": "3.11.4"
  }
 },
 "nbformat": 4,
 "nbformat_minor": 5
}
